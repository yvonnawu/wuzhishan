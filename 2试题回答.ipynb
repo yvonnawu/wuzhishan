{
 "cells": [
  {
   "cell_type": "code",
   "execution_count": 4,
   "metadata": {},
   "outputs": [
    {
     "ename": "SyntaxError",
     "evalue": "invalid character in identifier (<ipython-input-4-801b858ac84c>, line 4)",
     "output_type": "error",
     "traceback": [
      "\u001b[0;36m  File \u001b[0;32m\"<ipython-input-4-801b858ac84c>\"\u001b[0;36m, line \u001b[0;32m4\u001b[0m\n\u001b[0;31m    symbol=['600104.XSHG'，'600518.XSHG']\u001b[0m\n\u001b[0m                         ^\u001b[0m\n\u001b[0;31mSyntaxError\u001b[0m\u001b[0;31m:\u001b[0m invalid character in identifier\n"
     ]
    }
   ],
   "source": [
    "import pandas as pd\n",
    "import pylab as plt\n",
    "\n",
    "symbol=['600104.XSHG'，'600518.XSHG']\n",
    "data_dict = {}\n",
    "for s in symbol:\n",
    "    data =  pd.read_excel('sz50.xlsx',sheetname=s, index_col='datetime')\n",
    "    data_dict[s] = data['close']\n",
    "    data = pd.DataFrame(data_dict)\n",
    "\n",
    "    all_gust_spd_mean_list = [data]\n",
    "    all_gust_agl_dev_list = [data]\n",
    "g_s_m = pd.Series(all_gust_spd_mean_list)\n",
    "\n",
    "g_a_d = pd.Series(all_gust_agl_dev_list)\n",
    " \n",
    "corr_gust = round(g_s_m.corr(g_a_d), 4) #计算标准差，round(a, 4)是保留a的前四位小数\n",
    " \n",
    "print('corr_gust :', corr_gust)print('corr_gust :', corr_gust)"
   ]
  },
  {
   "cell_type": "code",
   "execution_count": null,
   "metadata": {
    "collapsed": true
   },
   "outputs": [],
   "source": []
  },
  {
   "cell_type": "code",
   "execution_count": null,
   "metadata": {
    "collapsed": true
   },
   "outputs": [],
   "source": [
    "import pandas as pd\n",
    "import math\n",
    "import numpy as np\n",
    "import matplotlib.pyplot as plt\n",
    "import tushare as ts\n",
    "\n",
    "stock = ts.get_k_data('600104', start='2017-01-01', end='2017-12-31', \n",
    "                      ktype='D', autype='qfq')\n",
    "\n",
    "stock.index = pd.to_datetime(stock['date'], format='%Y-%m-%d')\n",
    "stock.pop('date')\n",
    "# stock = pd.DataFrame(stock, dtype=np.float64)\n",
    "\n",
    "returns = stock.close.pct_change()[1:] \n",
    "r = returns.dropna()\n",
    "var = r.var()\n",
    "print('var', var)"
   ]
  },
  {
   "cell_type": "code",
   "execution_count": null,
   "metadata": {
    "collapsed": true
   },
   "outputs": [],
   "source": [
    "import pandas as pd\n",
    "import math\n",
    "import numpy as np\n",
    "import matplotlib.pyplot as plt\n",
    "import tushare as ts\n",
    "\n",
    "stock = ts.get_k_data('600518', start='2017-01-01', end='2017-12-31', \n",
    "                      ktype='D', autype='qfq')\n",
    "\n",
    "stock.index = pd.to_datetime(stock['date'], format='%Y-%m-%d')\n",
    "stock.pop('date')\n",
    "# stock = pd.DataFrame(stock, dtype=np.float64)\n",
    "\n",
    "returns = stock.close.pct_change()[1:] \n",
    "r = returns.dropna()\n",
    "var = r.var()\n",
    "print('var', var)"
   ]
  },
  {
   "cell_type": "code",
   "execution_count": null,
   "metadata": {
    "collapsed": true
   },
   "outputs": [],
   "source": []
  },
  {
   "cell_type": "code",
   "execution_count": 5,
   "metadata": {},
   "outputs": [
    {
     "data": {
      "image/png": "[encoded data removed]",
      "text/plain": [
       "<matplotlib.figure.Figure at 0x106a51710>"
      ]
     },
     "metadata": {},
     "output_type": "display_data"
    }
   ],
   "source": [
    "import warnings\n",
    "\n",
    "warnings.filterwarnings('ignore')\n",
    "import talib as ta\n",
    "import pandas as pd\n",
    "import warnings\n",
    "warnings.filterwarnings('ignore')\n",
    "\n",
    "stock1 = pd.read_excel('sz50.xlsx', sheetname='600104.XSHG', index_col='datetime')[:]\n",
    "import matplotlib.pyplot as plt\n",
    "from matplotlib.pylab import date2num\n",
    "\n",
    "stock1['time'] = list(map(date2num, stock1.index))\n",
    "candle = stock1.reindex_axis([\"time\", \"open\", \"high\", \"low\", \"close\"], 1).values\n",
    "\n",
    "import matplotlib.finance as mpf\n",
    "\n",
    "fig, (ax) = plt.subplots(1,1, figsize=(15,12))\n",
    "fig.subplots_adjust(bottom=0.5)\n",
    "ax.grid(True)\n",
    "mpf.candlestick_ohlc(ax, candle, width=0.6, colorup='r', colordown='g',alpha=1.0)\n",
    "ax.xaxis_date ()\n",
    "plt.show()"
   ]
  },
  {
   "cell_type": "code",
   "execution_count": null,
   "metadata": {
    "collapsed": true
   },
   "outputs": [],
   "source": [
    "import tushare as ts\n",
    "from statsmodels.stats.stattools import jarque_bera\n",
    "\n",
    "data = ts.get_k_data('601857', start='2017-01-01', end='2017-12-31', ktype='D',autype='qfq')\n",
    "data.index = pd.to_datetime(data['date'],format='%Y-%m-%d')\n",
    "data['percentage']=data['close'].pct_change()\n",
    "\n",
    "returns = data['percentage'][1:]\n",
    "_, pvalue, _, _ = jarque_bera(returns)\n",
    "if pvalue > 0.05:\n",
    "    print ('判断样本分布服从正态分布')\n",
    "else:\n",
    "    print ('判断样本分布不服从正态分布')"
   ]
  },
  {
   "cell_type": "code",
   "execution_count": 6,
   "metadata": {},
   "outputs": [
    {
     "ename": "ModuleNotFoundError",
     "evalue": "No module named 'tushare'",
     "output_type": "error",
     "traceback": [
      "\u001b[0;31m---------------------------------------------------------------------------\u001b[0m",
      "\u001b[0;31mModuleNotFoundError\u001b[0m                       Traceback (most recent call last)",
      "\u001b[0;32m<ipython-input-6-7b863439dadc>\u001b[0m in \u001b[0;36m<module>\u001b[0;34m()\u001b[0m\n\u001b[0;32m----> 1\u001b[0;31m \u001b[0;32mimport\u001b[0m \u001b[0mtushare\u001b[0m \u001b[0;32mas\u001b[0m \u001b[0mts\u001b[0m\u001b[0;34m\u001b[0m\u001b[0m\n\u001b[0m\u001b[1;32m      2\u001b[0m \u001b[0;32mfrom\u001b[0m \u001b[0mstatsmodels\u001b[0m\u001b[0;34m.\u001b[0m\u001b[0mstats\u001b[0m\u001b[0;34m.\u001b[0m\u001b[0mstattools\u001b[0m \u001b[0;32mimport\u001b[0m \u001b[0mjarque_bera\u001b[0m\u001b[0;34m\u001b[0m\u001b[0m\n\u001b[1;32m      3\u001b[0m \u001b[0;34m\u001b[0m\u001b[0m\n\u001b[1;32m      4\u001b[0m \u001b[0mdata\u001b[0m \u001b[0;34m=\u001b[0m \u001b[0mts\u001b[0m\u001b[0;34m.\u001b[0m\u001b[0mget_k_data\u001b[0m\u001b[0;34m(\u001b[0m\u001b[0;34m'601857'\u001b[0m\u001b[0;34m,\u001b[0m \u001b[0mstart\u001b[0m\u001b[0;34m=\u001b[0m\u001b[0;34m'2017-01-01'\u001b[0m\u001b[0;34m,\u001b[0m \u001b[0mend\u001b[0m\u001b[0;34m=\u001b[0m\u001b[0;34m'2017-12-31'\u001b[0m\u001b[0;34m,\u001b[0m \u001b[0mktype\u001b[0m\u001b[0;34m=\u001b[0m\u001b[0;34m'D'\u001b[0m\u001b[0;34m,\u001b[0m\u001b[0mautype\u001b[0m\u001b[0;34m=\u001b[0m\u001b[0;34m'qfq'\u001b[0m\u001b[0;34m)\u001b[0m\u001b[0;34m\u001b[0m\u001b[0m\n\u001b[1;32m      5\u001b[0m \u001b[0mdata\u001b[0m\u001b[0;34m.\u001b[0m\u001b[0mindex\u001b[0m \u001b[0;34m=\u001b[0m \u001b[0mpd\u001b[0m\u001b[0;34m.\u001b[0m\u001b[0mto_datetime\u001b[0m\u001b[0;34m(\u001b[0m\u001b[0mdata\u001b[0m\u001b[0;34m[\u001b[0m\u001b[0;34m'date'\u001b[0m\u001b[0;34m]\u001b[0m\u001b[0;34m,\u001b[0m\u001b[0mformat\u001b[0m\u001b[0;34m=\u001b[0m\u001b[0;34m'%Y-%m-%d'\u001b[0m\u001b[0;34m)\u001b[0m\u001b[0;34m\u001b[0m\u001b[0m\n",
      "\u001b[0;31mModuleNotFoundError\u001b[0m: No module named 'tushare'"
     ]
    }
   ],
   "source": [
    "import pandas as pd\n",
    "import math\n",
    "import numpy as np\n",
    "import matplotlib.pyplot as plt\n",
    "import tushare as ts\n",
    "\n",
    "stock = ts.get_k_data('601857', start='2017-01-01', end='2017-12-31', \n",
    "                      ktype='D', autype='qfq')\n",
    "\n",
    "stock.index = pd.to_datetime(stock['date'], format='%Y-%m-%d')\n",
    "stock.pop('date')\n",
    "# stock = pd.DataFrame(stock, dtype=np.float64)\n",
    "\n",
    "returns = stock.close.pct_change()[1:] \n",
    "r = returns.dropna()\n",
    "mean = r.mean()\n",
    "print('mean', mean)"
   ]
  },
  {
   "cell_type": "code",
   "execution_count": 9,
   "metadata": {},
   "outputs": [
    {
     "name": "stdout",
     "output_type": "stream",
     "text": [
      "       test\n",
      "0  0.000000\n",
      "1  0.285714\n",
      "2  0.775510\n",
      "3  1.411079\n",
      "4  2.150771\n",
      "5  2.964836\n",
      "6  3.832026\n",
      "7  4.737161\n",
      "8  5.669401\n",
      "9  6.621001\n"
     ]
    }
   ],
   "source": [
    "import pandas as pd\n",
    "\n",
    "symbol=['601901.XSHG']\n",
    "data_dict = {}\n",
    "for s in symbol:\n",
    "    data =  pd.read_excel('sz50.xlsx',sheetname=s, index_col='datetime')\n",
    "    data_dict[s] = data['close']\n",
    "    data = pd.DataFrame(data_dict)\n",
    "a = 2/7\n",
    "Prices = list(range(10)) #prices\n",
    "def ema ( N , Price) :\n",
    "    if N < 1:\n",
    "        return Price[0]\n",
    "    return (1-a)*ema(N-1,Price) + a*Price[N]\n",
    "recursion_df = pd.DataFrame({'test': Prices})\n",
    "recursion_result = recursion_df.ewm(alpha=2/7, adjust=False).mean()\n",
    "print(recursion_result)"
   ]
  },
  {
   "cell_type": "code",
   "execution_count": 8,
   "metadata": {},
   "outputs": [
    {
     "name": "stdout",
     "output_type": "stream",
     "text": [
      "0    NaN\n",
      "1    NaN\n",
      "2    NaN\n",
      "3    NaN\n",
      "4    NaN\n",
      "5    NaN\n",
      "6    NaN\n",
      "7    NaN\n",
      "8    NaN\n",
      "9    4.5\n",
      "dtype: float64\n"
     ]
    }
   ],
   "source": [
    "import talib as ta\n",
    "import numpy as np\n",
    "\n",
    "symbol=['601901.XSHG']\n",
    "data_dict = {}\n",
    "for s in symbol:\n",
    "    data =  pd.read_excel('sz50.xlsx',sheetname=s, index_col='datetime')\n",
    "    data_dict[s] = data['close']\n",
    "    data = pd.DataFrame(data_dict)\n",
    "a = 2/7\n",
    "Prices = list(range(10)) #prices\n",
    "def ema ( N , Price) :\n",
    "    if N < 1:\n",
    "        return Price[0]\n",
    "    return (1-a)*ema(N-1,Price) + a*Price[N]\n",
    "EMA = pd.Series(ta.EMA(np.array(Prices, dtype=np.float64),10))\n",
    "print(EMA)"
   ]
  }
 ],
 "metadata": {
  "kernelspec": {
   "display_name": "Python 3",
   "language": "python",
   "name": "python3"
  },
  "language_info": {
   "codemirror_mode": {
    "name": "ipython",
    "version": 3
   },
   "file_extension": ".py",
   "mimetype": "text/x-python",
   "name": "python",
   "nbconvert_exporter": "python",
   "pygments_lexer": "ipython3",
   "version": "3.6.2"
  }
 },
 "nbformat": 4,
 "nbformat_minor": 2
}
